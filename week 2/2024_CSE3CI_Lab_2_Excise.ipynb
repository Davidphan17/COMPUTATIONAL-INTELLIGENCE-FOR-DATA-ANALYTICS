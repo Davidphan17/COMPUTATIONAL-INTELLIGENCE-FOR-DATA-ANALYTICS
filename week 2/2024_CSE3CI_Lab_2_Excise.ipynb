{
 "cells": [
  {
   "cell_type": "markdown",
   "id": "fbdc4a87",
   "metadata": {},
   "source": [
    "Q1: Create a 1D array of numbers from 0 to 9"
   ]
  },
  {
   "cell_type": "code",
   "execution_count": null,
   "id": "12a3c5c3",
   "metadata": {},
   "outputs": [],
   "source": []
  },
  {
   "cell_type": "markdown",
   "id": "3c7479f3",
   "metadata": {},
   "source": [
    "Q2: Create a 3×3 numpy array of all True’s"
   ]
  },
  {
   "cell_type": "code",
   "execution_count": null,
   "id": "a2b60972",
   "metadata": {},
   "outputs": [],
   "source": []
  },
  {
   "cell_type": "markdown",
   "id": "4c84a8d2",
   "metadata": {},
   "source": [
    "Q3: Extract all odd numbers from `arr`, which is a 1D array of numbers from 0 to 9"
   ]
  },
  {
   "cell_type": "code",
   "execution_count": null,
   "id": "8011e150",
   "metadata": {},
   "outputs": [],
   "source": []
  },
  {
   "cell_type": "markdown",
   "id": "eb2388ee",
   "metadata": {},
   "source": [
    "Q4: Replace all odd numbers in `arr` with -1"
   ]
  },
  {
   "cell_type": "code",
   "execution_count": null,
   "id": "2bc9f744",
   "metadata": {},
   "outputs": [],
   "source": []
  },
  {
   "cell_type": "markdown",
   "id": "c056068f",
   "metadata": {},
   "source": [
    "Q5: Convert a 1D array (numbers from 0 to 9) to a 2D array with 2 rows"
   ]
  },
  {
   "cell_type": "code",
   "execution_count": null,
   "id": "cf0be11d",
   "metadata": {},
   "outputs": [],
   "source": []
  },
  {
   "cell_type": "markdown",
   "id": "1790e416",
   "metadata": {},
   "source": [
    "Q6: Stack arrays `a` and `b` vertically, where `a` is a 2D array filled with 1 with shape (2, 5), and `b` is a 2D array filled with 3 with shape (2, 5), set the dtype of both arrays with int16"
   ]
  },
  {
   "cell_type": "code",
   "execution_count": null,
   "id": "d9b4f9ed",
   "metadata": {},
   "outputs": [],
   "source": []
  },
  {
   "cell_type": "markdown",
   "id": "76b4bfbc",
   "metadata": {},
   "source": [
    "Q7: Stack the previously defined arrays `a` and `b` horizontally"
   ]
  },
  {
   "cell_type": "code",
   "execution_count": null,
   "id": "7fcc5f2b",
   "metadata": {},
   "outputs": [],
   "source": []
  },
  {
   "cell_type": "markdown",
   "id": "82575eb5",
   "metadata": {},
   "source": [
    "Q8: Get all items between 5 and 10 from `a`"
   ]
  },
  {
   "cell_type": "code",
   "execution_count": 8,
   "id": "32a0c3d0",
   "metadata": {},
   "outputs": [],
   "source": [
    "a = np.array([2, 6, 1, 9, 10, 3, 27])"
   ]
  },
  {
   "cell_type": "code",
   "execution_count": null,
   "id": "d94c24aa",
   "metadata": {},
   "outputs": [],
   "source": []
  },
  {
   "cell_type": "markdown",
   "id": "086e16ba",
   "metadata": {},
   "source": [
    "Q9: Swap columns 1 and 2 in the array `arr`"
   ]
  },
  {
   "cell_type": "code",
   "execution_count": 10,
   "id": "c5bee8b7",
   "metadata": {},
   "outputs": [],
   "source": [
    "arr = np.arange(9).reshape(3,3)"
   ]
  },
  {
   "cell_type": "code",
   "execution_count": null,
   "id": "c5fba4c4",
   "metadata": {},
   "outputs": [],
   "source": []
  },
  {
   "cell_type": "markdown",
   "id": "400757f0",
   "metadata": {},
   "source": [
    "Q10: Swap rows 1 and 2 in the array `arr` we just defined"
   ]
  },
  {
   "cell_type": "code",
   "execution_count": null,
   "id": "487feea6",
   "metadata": {},
   "outputs": [],
   "source": []
  },
  {
   "cell_type": "markdown",
   "id": "fc130dc8",
   "metadata": {},
   "source": [
    "Q11: Reverse the a 1D `arr` of numbers from 0 to 9"
   ]
  },
  {
   "cell_type": "code",
   "execution_count": null,
   "id": "062932a1",
   "metadata": {},
   "outputs": [],
   "source": []
  },
  {
   "cell_type": "markdown",
   "id": "9a33ccf8",
   "metadata": {},
   "source": [
    "Q12: Create a 2D array of shape 5x3 to contain random float numbers between 0 and 20"
   ]
  },
  {
   "cell_type": "code",
   "execution_count": null,
   "id": "e69890ac",
   "metadata": {},
   "outputs": [],
   "source": []
  },
  {
   "cell_type": "markdown",
   "id": "af23e0c1",
   "metadata": {},
   "source": [
    "Q13: compute the sum of all elements in arr that you just created"
   ]
  },
  {
   "cell_type": "code",
   "execution_count": null,
   "id": "0adb2101",
   "metadata": {},
   "outputs": [],
   "source": []
  },
  {
   "cell_type": "code",
   "execution_count": null,
   "id": "e34aa4e0",
   "metadata": {},
   "outputs": [],
   "source": []
  }
 ],
 "metadata": {
  "kernelspec": {
   "display_name": "Python 3",
   "language": "python",
   "name": "python3"
  },
  "language_info": {
   "codemirror_mode": {
    "name": "ipython",
    "version": 3
   },
   "file_extension": ".py",
   "mimetype": "text/x-python",
   "name": "python",
   "nbconvert_exporter": "python",
   "pygments_lexer": "ipython3",
   "version": "3.8.8"
  }
 },
 "nbformat": 4,
 "nbformat_minor": 5
}
