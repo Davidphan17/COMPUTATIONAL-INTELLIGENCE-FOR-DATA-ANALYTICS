{
 "cells": [
  {
   "cell_type": "markdown",
   "id": "0c57a175",
   "metadata": {},
   "source": [
    "# CSE3CI Lab 1: Solutions to the Exercise"
   ]
  },
  {
   "cell_type": "markdown",
   "id": "9d3bd603",
   "metadata": {},
   "source": [
    "**Question 1**: <br>Assume a kid Bob is 10 years old. To create this profile information for Bob , now assign a value of \"Bob\" to the variable *name*, and assign a value of 10 to the variable *age*, and print the variable type for both name and age"
   ]
  },
  {
   "cell_type": "code",
   "execution_count": null,
   "id": "f6d66778",
   "metadata": {},
   "outputs": [],
   "source": []
  },
  {
   "cell_type": "markdown",
   "id": "fcafdae6",
   "metadata": {},
   "source": [
    "**Question 2**: <br> print the *name* and *age* with sprintf style string formatting, the print result should be \"Bob is 10 years old.\""
   ]
  },
  {
   "cell_type": "code",
   "execution_count": null,
   "id": "0a0c46ee",
   "metadata": {},
   "outputs": [],
   "source": []
  },
  {
   "cell_type": "markdown",
   "id": "50d1def3",
   "metadata": {},
   "source": [
    "#### Now let's do some exercise for list, dictionary, functions and visualization"
   ]
  },
  {
   "cell_type": "markdown",
   "id": "2f2c2a7e",
   "metadata": {},
   "source": [
    "**Question 3**: <br>create 3 dictionaries for three students in a class. The dictionary for each student have four keys: name, homework, quizzes and tests. Since there are more than one homework, quiz and test, so you will need to use list to record them.\n",
    "<br><br>\n",
    "The first student is Cathy. The marks for the homework are 90.0, 97.0, 75.0 and 92.0. The marks for the quizzes are 88.0, 40.0 and 94.0. The marks for the test are 75.0 and 90.0.\n",
    "<br><br>\n",
    "The second student is Alice. The marks for the homework are 100.0, 92.0, 98.0 and 100.0. The marks for the quizzes are 82.0, 83.0 and 91.0. The marks for the test are 89.0 and 97.0.\n",
    "<br><br>\n",
    "The third student is Tyler. The marks for the homework are 0.0, 87.0, 75.0 and 22.0. The marks for the quizzes are 0.0, 75.0 and 78.0. The marks for the test are 100.0 and 100.0.\n",
    "<br><br>Now create three dictionaries for the three students."
   ]
  },
  {
   "cell_type": "code",
   "execution_count": null,
   "id": "855f3322",
   "metadata": {},
   "outputs": [],
   "source": []
  },
  {
   "cell_type": "markdown",
   "id": "4e61ff49",
   "metadata": {},
   "source": [
    "**Question 4**: <br>create a gradebook for the three students using a list"
   ]
  },
  {
   "cell_type": "code",
   "execution_count": null,
   "id": "e6ef6715",
   "metadata": {},
   "outputs": [],
   "source": []
  },
  {
   "cell_type": "markdown",
   "id": "6977acde",
   "metadata": {},
   "source": [
    "**Question 5**: <br> for each student in your students list, print out that student's data, as follows:\n",
    "<br><br>\n",
    "print the student's name\n",
    "<br>\n",
    "print the student's homework\n",
    "<br>\n",
    "print the student's quizzes\n",
    "<br>\n",
    "print the student's tests"
   ]
  },
  {
   "cell_type": "code",
   "execution_count": null,
   "id": "0c2f56a4",
   "metadata": {},
   "outputs": [],
   "source": []
  },
  {
   "cell_type": "markdown",
   "id": "c92ef7af",
   "metadata": {},
   "source": [
    "**Question 6**:\n",
    "<br>Plot the four homework marks for Cathy using red line and circle marker\n",
    "<br> Tips: you can create the x axis as the order of the homework"
   ]
  },
  {
   "cell_type": "code",
   "execution_count": null,
   "id": "6de3d36c",
   "metadata": {},
   "outputs": [],
   "source": []
  },
  {
   "cell_type": "markdown",
   "id": "540652e4",
   "metadata": {},
   "source": [
    "**Question 7**: <br> Write a function *average* that takes a list of numbers and returns the average.\n",
    "<br><br>Define a function called average that has one argument, numbers.\n",
    "<br>\n",
    "Inside that function, call the built-in sum() function with the numbers list as a parameter. Store the result in a variable called total.\n",
    "<br>\n",
    "Use float() to convert total and store the result in total.\n",
    "<br>\n",
    "Divide total by the length of the numbers list. Use the built-in len() function to calculate that.\n",
    "<br>\n",
    "Return that result."
   ]
  },
  {
   "cell_type": "code",
   "execution_count": null,
   "id": "79002cc0",
   "metadata": {},
   "outputs": [],
   "source": []
  },
  {
   "cell_type": "markdown",
   "id": "a5b10687",
   "metadata": {},
   "source": [
    "validate your function to see if it works as expected using the following:"
   ]
  },
  {
   "cell_type": "code",
   "execution_count": 9,
   "id": "573f925f",
   "metadata": {},
   "outputs": [
    {
     "name": "stdout",
     "output_type": "stream",
     "text": [
      "50.0\n"
     ]
    }
   ],
   "source": [
    "print(average([10.0, 50.0, 90.0]))"
   ]
  },
  {
   "cell_type": "markdown",
   "id": "3aa32a61",
   "metadata": {},
   "source": [
    "**Question 8**: <br> Write a function called get_average that takes a student dictionary (like cathy, alice, or tyler) as input and returns his/her weighted average.\n",
    "<br><br>Define a function called get_average that takes one argument called student.\n",
    "<br>Make a variable homework that stores the average()(this is the function that you just created) of student[\"homework\"].\n",
    "<br>Repeat the last step for \"quizzes\" and \"tests\".\n",
    "<br>Multiply the 3 averages by their weights and return the sum of those three. Homework is 10%, quizzes are 30% and tests are 60%."
   ]
  },
  {
   "cell_type": "code",
   "execution_count": null,
   "id": "5ec72c8a",
   "metadata": {},
   "outputs": [],
   "source": []
  },
  {
   "cell_type": "markdown",
   "id": "645fb283",
   "metadata": {},
   "source": [
    "validate your function to see if it works as expected using the following:"
   ]
  },
  {
   "cell_type": "code",
   "execution_count": 11,
   "id": "5f850c0d",
   "metadata": {},
   "outputs": [
    {
     "name": "stdout",
     "output_type": "stream",
     "text": [
      "80.55\n"
     ]
    }
   ],
   "source": [
    "print(get_average(cathy))"
   ]
  },
  {
   "cell_type": "markdown",
   "id": "1ae4967e",
   "metadata": {},
   "source": [
    "**Question 9**:\n",
    "<br>Define a new function called get_letter_grade that has one argument called score. Expect score to be a number.\n",
    "<br>Inside your function, test score using a chain of if: / elif: / else: statements, like so:\n",
    "<br><br>if score is 90 or above: return \"A\"\n",
    "<br>else if score is 80 or above: return \"B\"\n",
    "<br>else if score is 70 or above: return \"C\"\n",
    "<br>else if score is 60 or above: return \"D\"\n",
    "<br>Otherwise: return \"F\"\n",
    "<br><br>Finally, validate your function. Call your get_letter_grade function with the result of get_average(lloyd). Print the resulting letter grade."
   ]
  },
  {
   "cell_type": "code",
   "execution_count": null,
   "id": "ab2c02e9",
   "metadata": {},
   "outputs": [],
   "source": []
  },
  {
   "cell_type": "markdown",
   "id": "c24fee09",
   "metadata": {},
   "source": [
    "validate your function to see if it works as expected using the following:"
   ]
  },
  {
   "cell_type": "code",
   "execution_count": 13,
   "id": "0b1c575e",
   "metadata": {},
   "outputs": [
    {
     "name": "stdout",
     "output_type": "stream",
     "text": [
      "B\n"
     ]
    }
   ],
   "source": [
    "print(get_letter_grade(get_average(cathy)))"
   ]
  },
  {
   "cell_type": "markdown",
   "id": "be4c325e",
   "metadata": {},
   "source": [
    "**Question 10**:\n",
    "<br>Define a function called get_class_average that has one argument, gradebook. You can expect gradebook to be a list containing your three students.\n",
    "<br><br>First, make an empty list called results.\n",
    "<br>For each student item in the class list, calculate get_average(student) and then call results.append() with that result.\n",
    "<br>Finally, return the result of calling average() with results."
   ]
  },
  {
   "cell_type": "code",
   "execution_count": 17,
   "id": "d85cb6c4",
   "metadata": {},
   "outputs": [],
   "source": []
  },
  {
   "cell_type": "markdown",
   "id": "0c0fd28d",
   "metadata": {},
   "source": [
    "validate your function to see if it works as expected using the following:"
   ]
  },
  {
   "cell_type": "code",
   "execution_count": 18,
   "id": "6bd3d82f",
   "metadata": {},
   "outputs": [
    {
     "name": "stdout",
     "output_type": "stream",
     "text": [
      "83.86666666666666\n"
     ]
    }
   ],
   "source": [
    "print(get_class_average(gradebook))"
   ]
  },
  {
   "cell_type": "markdown",
   "id": "a4f47e09",
   "metadata": {},
   "source": [
    "Now, you can find that, the class average for the students is 83.87."
   ]
  },
  {
   "cell_type": "markdown",
   "id": "b233aac0",
   "metadata": {},
   "source": [
    "**Question 11**:\n",
    "<br>Now use get_letter_grade and print the class's average:"
   ]
  },
  {
   "cell_type": "code",
   "execution_count": null,
   "id": "b1cdac3b",
   "metadata": {},
   "outputs": [],
   "source": []
  },
  {
   "cell_type": "code",
   "execution_count": null,
   "id": "4c1cc091",
   "metadata": {},
   "outputs": [],
   "source": []
  }
 ],
 "metadata": {
  "kernelspec": {
   "display_name": "Python 3",
   "language": "python",
   "name": "python3"
  },
  "language_info": {
   "codemirror_mode": {
    "name": "ipython",
    "version": 3
   },
   "file_extension": ".py",
   "mimetype": "text/x-python",
   "name": "python",
   "nbconvert_exporter": "python",
   "pygments_lexer": "ipython3",
   "version": "3.8.8"
  }
 },
 "nbformat": 4,
 "nbformat_minor": 5
}
