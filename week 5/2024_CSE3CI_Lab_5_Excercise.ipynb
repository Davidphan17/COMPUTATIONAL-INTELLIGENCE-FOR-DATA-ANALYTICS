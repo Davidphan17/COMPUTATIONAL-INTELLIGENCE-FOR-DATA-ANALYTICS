{
 "cells": [
  {
   "cell_type": "markdown",
   "id": "f24b44b0",
   "metadata": {},
   "source": [
    "Try use kmeans on the heart disease dataset that we used before in Lab 4, since the dataset is for binary classification, we can set the number of cluster to be 2, and investigate the clustering result. "
   ]
  },
  {
   "cell_type": "markdown",
   "id": "873b54b2",
   "metadata": {},
   "source": [
    "### Data Preprocessing"
   ]
  },
  {
   "cell_type": "markdown",
   "id": "1dcaf142",
   "metadata": {},
   "source": [
    "The entire pre-processing should include: loading the data, handingling missing values, checking and transforming data types, dealing with categorical variables, extracting values from input variables (define inputs variables and the target variable), and scaling the variables with min-max normalization"
   ]
  },
  {
   "cell_type": "code",
   "execution_count": null,
   "id": "72a4d109",
   "metadata": {},
   "outputs": [],
   "source": []
  },
  {
   "cell_type": "markdown",
   "id": "8159b484",
   "metadata": {},
   "source": [
    "### Build a kmeans model\n",
    "Define the random state number as 0 and since the the heart disease has two classes, we define the cluster number as 2. "
   ]
  },
  {
   "cell_type": "code",
   "execution_count": null,
   "id": "f8b729e1",
   "metadata": {},
   "outputs": [],
   "source": []
  },
  {
   "cell_type": "markdown",
   "id": "8df6fa64",
   "metadata": {},
   "source": [
    "#### check how many data samples in each cluster"
   ]
  },
  {
   "cell_type": "code",
   "execution_count": null,
   "id": "19eefcd8",
   "metadata": {},
   "outputs": [],
   "source": []
  },
  {
   "cell_type": "markdown",
   "id": "3928cb94",
   "metadata": {},
   "source": [
    "#### Extract prototype for each cluster"
   ]
  },
  {
   "cell_type": "code",
   "execution_count": null,
   "id": "bff2e470",
   "metadata": {},
   "outputs": [],
   "source": []
  },
  {
   "cell_type": "markdown",
   "id": "eae1cba4",
   "metadata": {},
   "source": [
    "#### Check accuracy of the clustering model"
   ]
  },
  {
   "cell_type": "code",
   "execution_count": 5,
   "id": "a10a72a9",
   "metadata": {},
   "outputs": [
    {
     "name": "stdout",
     "output_type": "stream",
     "text": [
      "k means prediction accuracy: 0.7912457912457912\n"
     ]
    }
   ],
   "source": [
    "from sklearn.metrics import accuracy_score\n",
    "\n",
    "y = array[:,-1]\n",
    "kmeans_labels = kmeans.labels_\n",
    "# or kmeans_lables = kmeans.predict(X)\n",
    "\n",
    "accuracy = accuracy_score(y, kmeans_labels)\n",
    "print(\"k means prediction accuracy:\", accuracy)"
   ]
  },
  {
   "cell_type": "code",
   "execution_count": null,
   "id": "0e2cef51",
   "metadata": {},
   "outputs": [],
   "source": []
  }
 ],
 "metadata": {
  "kernelspec": {
   "display_name": "Python 3",
   "language": "python",
   "name": "python3"
  },
  "language_info": {
   "codemirror_mode": {
    "name": "ipython",
    "version": 3
   },
   "file_extension": ".py",
   "mimetype": "text/x-python",
   "name": "python",
   "nbconvert_exporter": "python",
   "pygments_lexer": "ipython3",
   "version": "3.8.8"
  }
 },
 "nbformat": 4,
 "nbformat_minor": 5
}
